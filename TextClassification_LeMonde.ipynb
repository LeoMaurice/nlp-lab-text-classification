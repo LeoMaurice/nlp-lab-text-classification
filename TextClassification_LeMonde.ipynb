{
 "cells": [
  {
   "cell_type": "markdown",
   "metadata": {},
   "source": [
    "## Text classification on LeMonde2003 Dataset\n",
    "\n",
    "In this notebook, we \n",
    "apply classification algorithms to newspaper articles published in 2003 in *Le Monde*. \n",
    "\n",
    "The data are here : https://cloud.teklia.com/index.php/s/isNwnwA7a7AWst6/download/LeMonde2003_9classes.csv.gz\n",
    "\n",
    "Download it into the data directory : \n",
    "\n",
    "```\n",
    "wget https://cloud.teklia.com/index.php/s/isNwnwA7a7AWst6/download/LeMonde2003_9classes.csv.gz\n",
    "```\n",
    "\n",
    "Or you can download the file directly from the URL in pandas with `pd.read_csv(url)`.`\n",
    "\n",
    "\n",
    "These articles concern different subjects but we will consider only articles related to the following subjects : entreprises (ENT), international (INT), arts (ART), société (SOC), France (FRA), sports (SPO), livres (LIV), télévision (TEL) and the font page articles (UNE).\n",
    "\n",
    "\n",
    "> * Load the CSV file `LeMonde2003_9classes.csv.gz` containing the articles using pandas [pd.read_csv](https://pandas.pydata.org/pandas-docs/stable/reference/api/pandas.read_csv.html). How many articles do you have ? \n",
    "> * Plot the frequency histogram of the categories using seaborn [countplot](https://seaborn.pydata.org/tutorial/categorical.html) : `sns.countplot(data=df,y='category')`\n",
    "> * Display the text of some of the article with the corresponding class using pandas [sample](https://pandas.pydata.org/pandas-docs/stable/reference/api/pandas.DataFrame.sample.html)\n",
    "> * Using the [WordCloud library](https://amueller.github.io/word_cloud/index.html), display a word cloud for the most frequent classes. You can remove the stop words using the `stopwords` option, using the list of stop words in French in `data/stop_word_fr.txt` or from the URL https://cloud.teklia.com/index.php/s/3mwZfSre4PmJcdb/download/stop_word_fr.txt\n",
    "\n"
   ]
  },
  {
   "cell_type": "code",
   "execution_count": 8,
   "metadata": {},
   "outputs": [
    {
     "name": "stdout",
     "output_type": "stream",
     "text": [
      "Collecting wordcloud\n",
      "  Downloading wordcloud-1.9.3-cp311-cp311-manylinux_2_17_x86_64.manylinux2014_x86_64.whl.metadata (3.4 kB)\n",
      "Requirement already satisfied: numpy>=1.6.1 in /opt/mamba/lib/python3.11/site-packages (from wordcloud) (1.26.4)\n",
      "Requirement already satisfied: pillow in /opt/mamba/lib/python3.11/site-packages (from wordcloud) (10.2.0)\n",
      "Requirement already satisfied: matplotlib in /opt/mamba/lib/python3.11/site-packages (from wordcloud) (3.8.2)\n",
      "Requirement already satisfied: contourpy>=1.0.1 in /opt/mamba/lib/python3.11/site-packages (from matplotlib->wordcloud) (1.2.0)\n",
      "Requirement already satisfied: cycler>=0.10 in /opt/mamba/lib/python3.11/site-packages (from matplotlib->wordcloud) (0.12.1)\n",
      "Requirement already satisfied: fonttools>=4.22.0 in /opt/mamba/lib/python3.11/site-packages (from matplotlib->wordcloud) (4.48.1)\n",
      "Requirement already satisfied: kiwisolver>=1.3.1 in /opt/mamba/lib/python3.11/site-packages (from matplotlib->wordcloud) (1.4.5)\n",
      "Requirement already satisfied: packaging>=20.0 in /opt/mamba/lib/python3.11/site-packages (from matplotlib->wordcloud) (23.2)\n",
      "Requirement already satisfied: pyparsing>=2.3.1 in /opt/mamba/lib/python3.11/site-packages (from matplotlib->wordcloud) (3.1.1)\n",
      "Requirement already satisfied: python-dateutil>=2.7 in /opt/mamba/lib/python3.11/site-packages (from matplotlib->wordcloud) (2.8.2)\n",
      "Requirement already satisfied: six>=1.5 in /opt/mamba/lib/python3.11/site-packages (from python-dateutil>=2.7->matplotlib->wordcloud) (1.16.0)\n",
      "Downloading wordcloud-1.9.3-cp311-cp311-manylinux_2_17_x86_64.manylinux2014_x86_64.whl (548 kB)\n",
      "\u001b[2K   \u001b[90m━━━━━━━━━━━━━━━━━━━━━━━━━━━━━━━━━━━━━━━━\u001b[0m \u001b[32m548.3/548.3 kB\u001b[0m \u001b[31m22.1 MB/s\u001b[0m eta \u001b[36m0:00:00\u001b[0m\n",
      "\u001b[?25hInstalling collected packages: wordcloud\n",
      "Successfully installed wordcloud-1.9.3\n"
     ]
    }
   ],
   "source": [
    "!pip install wordcloud\n"
   ]
  },
  {
   "cell_type": "code",
   "execution_count": 3,
   "metadata": {},
   "outputs": [],
   "source": [
    "import pandas as pd\n",
    "\n",
    "url = \"https://cloud.teklia.com/index.php/s/isNwnwA7a7AWst6/download/LeMonde2003_9classes.csv.gz\"\n",
    "df = pd.read_csv(url)\n",
    "\n"
   ]
  },
  {
   "cell_type": "code",
   "execution_count": 4,
   "metadata": {},
   "outputs": [
    {
     "data": {
      "text/plain": [
       "<Axes: xlabel='category', ylabel='count'>"
      ]
     },
     "execution_count": 4,
     "metadata": {},
     "output_type": "execute_result"
    },
    {
     "data": {
      "image/png": "[encoded data removed]",
      "text/plain": [
       "<Figure size 640x480 with 1 Axes>"
      ]
     },
     "metadata": {},
     "output_type": "display_data"
    }
   ],
   "source": [
    "import seaborn as sns\n",
    "%matplotlib inline\n",
    "\n",
    "sns.countplot(df,x= 'category')\n"
   ]
  },
  {
   "cell_type": "code",
   "execution_count": 6,
   "metadata": {},
   "outputs": [
    {
     "data": {
      "text/html": [
       "<div>\n",
       "<style scoped>\n",
       "    .dataframe tbody tr th:only-of-type {\n",
       "        vertical-align: middle;\n",
       "    }\n",
       "\n",
       "    .dataframe tbody tr th {\n",
       "        vertical-align: top;\n",
       "    }\n",
       "\n",
       "    .dataframe thead th {\n",
       "        text-align: right;\n",
       "    }\n",
       "</style>\n",
       "<table border=\"1\" class=\"dataframe\">\n",
       "  <thead>\n",
       "    <tr style=\"text-align: right;\">\n",
       "      <th></th>\n",
       "      <th>text</th>\n",
       "      <th>category</th>\n",
       "    </tr>\n",
       "  </thead>\n",
       "  <tbody>\n",
       "    <tr>\n",
       "      <th>29033</th>\n",
       "      <td>le premier ministre qui recevait mercredi 3 décembre des français issus de l'immigration en commémoration de la marche des beurs de décembre 1983 a défendu l'idée d'une mobilisation positive pour promouvoir une nouvelle étape de l'intégration il a annoncé une concertation sur trois dossiers un système de bourses pour distinguer les plus méritants la diversification de l'accès aux grandes écoles et la politique de recrutement et de promotion interne dans la fonction publique m. raffarin a insisté sur la nécessité d'actions médiatiques pour changer les représentations enfin il a annoncé sa volonté d'organiser une conférence nationale pour l'égalité des chances au deuxième trimestre 2004 qui devrait rassembler l'ensemble des personnes qui travaillent sur ces questions</td>\n",
       "      <td>SOC</td>\n",
       "    </tr>\n",
       "    <tr>\n",
       "      <th>26286</th>\n",
       "      <td>la cour suprême israélienne a rejeté jeudi 26 juin la pétition formulée par les habitants arabes israéliens de deux villages situés près de la frontière du liban ikrit et biram pour pouvoir retourner dans leurs maisons évacuées sur ordre de l'armée israélienne lors de la guerre de 1948 ce rejet devrait mettre un terme définitif à plusieurs décennies de démarches et de polémiques la cour a justifié sa décision en mettant en avant le précédent qu'une décision favorable créerait par rapport à la question du retour des réfugiés palestiniens auquel les autorités israéliennes sont opposées la cour a cependant reconnu une dette d'honneur à l'égard de ces villageois qui avaient reçu à plusieurs reprises la promesse de responsables israéliens qu'ils pourraient rentrer chez eux l'armée israélienne elle-même avait assuré aux villageois lors de l'évacuation qu'ils pourraient revenir après deux semaines corresp</td>\n",
       "      <td>INT</td>\n",
       "    </tr>\n",
       "    <tr>\n",
       "      <th>11987</th>\n",
       "      <td>la sortie du syndicat de la presse parisienne spp est irrévocable c'est ce qu'a déclaré yves de chaisemartin président du directoire du figaro devant le comité d'entreprise ce du quotidien réuni jeudi 27 novembre il présidait lui-même cette réunion et pour cause on lui demandait de s'expliquer sur sa sortie du spp annoncée mardi 18 novembre qui a été vécue comme un tremblement de terre au sein de la profession il a lancé un cri d'alarme pour dire ça ne peut plus durer explique un proche du journal première raison de cette décision le figaro est dans une situation que nous n'avons jamais connue notamment sur les offres d'emploi a affirmé m. de chaisemartin selon des notes prises par le syndicat sgj-fo syndicat général des journalistes au cours du ce et adressées par courrier électronique à tous les journalistes a l'instar de toute la presse quotidienne les ressources publicitaires ont fondu en 2003 deuxième raison je ne veux plus et ne peux plus payer ce qui dépasse les coûts normaux nous sommes dans un secteur industriel qui doit revenir à des normes selon ces notes l'environnement concurrentiel m'oblige à remettre à plat nos conditions de fabrication et nos coûts de production a poursuivi m. de chaisemartin au total le patron du figaro a donné six éléments qui l'ont poussé à cette décision l'état des nmpp nouvelles la prochaine augmentation des tarifs de la poste la presse gratuite l'ouverture de la publicité à la pres se le réseau des points de vente qui est en train de disparaître et la situation même du figaro dans ce contexte déprimé et pour riposter à la concurrence des gratuits la socpresse envisage de lancer avec le parisien amaury et hachette une fédération de quotidiens gratuits qui serait pilotée par le parisien au niveau national et qui aurait notamment comme têtes de pont le projet du progrès à lyon marseille+ qui a été lancé par la provence en février 2002 le monde du 22 novembre etc le syndicat sgj-fo s'est étonné que m. de chaisemartin n'en ait pas dit un mot au comité d'entreprise quel serait le plus publicitaire et rédactionnel de cette opération se demande une élue de sgj-fo le syndicat qui demande à la direction une relance du journal a en outre appelé à ce que l'ensemble de la rédaction soit associé à la préparation de la nouvelle maquette et à un vrai projet rédactionnel cette nouvelle maquette est semble-t-il préparée dans le plus grand secret par un petit nombre de personnes par ailleurs le sgj-fo a fait part dans un courrier électronique adressé à la rédaction de ses inquiétudes sur le fait que la direction ne peut pas toujours résister aux sollicitations de la direction de publiprint la régie publicitaire du figaro en tout cas m. de chaisemartin est déterminé dans sa décision concernant le spp il est prêt à aller jusqu'au bout un conflit avec le livre est probable je ne le crains pas je vous demande d'être prêt à toute éventualité aurait-il affirmé selon les notes de sgj-fo une réunion avec le syndicat du livre et la direction du figaro est prévue lundi 1er décembre d'ores et déjà m. de chaisemartin prévient que les éditeurs me suivent ou pas on ne m'empêchera pas d'avancer a-t-il lancé devant les élus du ce ou nous aboutirons à des accords spp ou nous ferons des accords spécifiques figaro le syndicat sgj-fo a annoncé au cours de l'assemblée générale qui a suivi le ce avoir demandé une réunion d'urgence au spp un prêt à rembourser quant à savoir si cette décision a été prise en raison d'une pression de ses actionnaires notamment le groupe dassault qui détient 30 du capital de la socpresse maison mère du figaro la sortie du spp n'est ni un coup ni une manoeuvre elle n'a rien à voir avec les pouvoirs publics ni avec les actionnaires ni avec la prétendue échéance financière de février rappelons que dassault a acquis fin janvier 2002 pour plus de 450 millions d'euros 30 de la socpresse le reste du capital étant entre les mains des treize héritiers de robert hersant or la socpresse doit rembourser un prêt de 230 millions d'euros contracté auprès de dassault début 2003 pour racheter le groupe express-expansion l'échéance de cet accord de prêt tombe en février 2004 comme l'a révélé l'hebdomadaire stratégies du 20 novembre la socpresse pourrait avoir des difficultés à rembourser cette dette en numéraire elle pourrait donc être convertie en actions portant la part de dassault dans le capital de la socpresse de 30 à moins de 50 le groupe de serge dassault a toujours indiqué qu'il était prêt à augmenter sa participation mais la rédaction du figaro de même que celles de l'express et de l'expansion ne verraient pas d'un bon oeil cette montée dans le capital nos relations avec m. de chaisemartin sont excellentes c'est l'homme de la situation a confié rudi roussillon conseiller de serge dassault les hommes de dassault rencontrent m. de chaisemartin au moins une fois par semaine</td>\n",
       "      <td>ENT</td>\n",
       "    </tr>\n",
       "  </tbody>\n",
       "</table>\n",
       "</div>"
      ],
      "text/plain": [
       "                                                                                                                                                                                                                                                                                                                                                                                                                                                                                                                                                                                                                                                                                                                                                                                                                                                                                                                                                                                                                                                                                                                                                                                                                                                                                                                                                                                                                                                                                                                                                                                                                                                                                                                                                                                                                                                                                                                                                                                                                                                                                                                                                                                                                                                                                                                                                                                                                                                                                                                                                                                                                                                                                                                                                                                                                                                                                                                                                                                                                                                                                                                                                                                                                                                                                                                                                                                                                                                                                                                                                                                                                                                                                                                                                                                                                                                                                                                                                                                                                                                                                                                                                                                                                                                                                                                                                                                                                                                                                                                                                                                                                                                                                                                                                                                                                                                                                                                                                                                                                                                                                  text  \\\n",
       "29033                                                                                                                                                                                                                                                                                                                                                                                                                                                                                                                                                                                                                                                                                                                                                                                                                                                                                                                                                                                                                                                                                                                                                                                                                                                                                                                                                                                                                                                                                                                                                                                                                                                                                                                                                                                                                                                                                                                                                                                                                                                                                                                                                                                                                                                                                                                                                                                                                                                                                                                                                                                                                                                                                                                                                                                                                                                                                                                                                                                                                                                                                                                                                                                                                                                                                                                                                                                                                                                                                                                                                                                                                                                                                                                                                                                                                                                                                                                                                                                                                                                                                                                                                                                                                                                                          le premier ministre qui recevait mercredi 3 décembre des français issus de l'immigration en commémoration de la marche des beurs de décembre 1983 a défendu l'idée d'une mobilisation positive pour promouvoir une nouvelle étape de l'intégration il a annoncé une concertation sur trois dossiers un système de bourses pour distinguer les plus méritants la diversification de l'accès aux grandes écoles et la politique de recrutement et de promotion interne dans la fonction publique m. raffarin a insisté sur la nécessité d'actions médiatiques pour changer les représentations enfin il a annoncé sa volonté d'organiser une conférence nationale pour l'égalité des chances au deuxième trimestre 2004 qui devrait rassembler l'ensemble des personnes qui travaillent sur ces questions   \n",
       "26286                                                                                                                                                                                                                                                                                                                                                                                                                                                                                                                                                                                                                                                                                                                                                                                                                                                                                                                                                                                                                                                                                                                                                                                                                                                                                                                                                                                                                                                                                                                                                                                                                                                                                                                                                                                                                                                                                                                                                                                                                                                                                                                                                                                                                                                                                                                                                                                                                                                                                                                                                                                                                                                                                                                                                                                                                                                                                                                                                                                                                                                                                                                                                                                                                                                                                                                                                                                                                                                                                                                                                                                                                                                                                                                                                                                                                                                                                                                                                                                                                                                                                                                                  la cour suprême israélienne a rejeté jeudi 26 juin la pétition formulée par les habitants arabes israéliens de deux villages situés près de la frontière du liban ikrit et biram pour pouvoir retourner dans leurs maisons évacuées sur ordre de l'armée israélienne lors de la guerre de 1948 ce rejet devrait mettre un terme définitif à plusieurs décennies de démarches et de polémiques la cour a justifié sa décision en mettant en avant le précédent qu'une décision favorable créerait par rapport à la question du retour des réfugiés palestiniens auquel les autorités israéliennes sont opposées la cour a cependant reconnu une dette d'honneur à l'égard de ces villageois qui avaient reçu à plusieurs reprises la promesse de responsables israéliens qu'ils pourraient rentrer chez eux l'armée israélienne elle-même avait assuré aux villageois lors de l'évacuation qu'ils pourraient revenir après deux semaines corresp   \n",
       "11987  la sortie du syndicat de la presse parisienne spp est irrévocable c'est ce qu'a déclaré yves de chaisemartin président du directoire du figaro devant le comité d'entreprise ce du quotidien réuni jeudi 27 novembre il présidait lui-même cette réunion et pour cause on lui demandait de s'expliquer sur sa sortie du spp annoncée mardi 18 novembre qui a été vécue comme un tremblement de terre au sein de la profession il a lancé un cri d'alarme pour dire ça ne peut plus durer explique un proche du journal première raison de cette décision le figaro est dans une situation que nous n'avons jamais connue notamment sur les offres d'emploi a affirmé m. de chaisemartin selon des notes prises par le syndicat sgj-fo syndicat général des journalistes au cours du ce et adressées par courrier électronique à tous les journalistes a l'instar de toute la presse quotidienne les ressources publicitaires ont fondu en 2003 deuxième raison je ne veux plus et ne peux plus payer ce qui dépasse les coûts normaux nous sommes dans un secteur industriel qui doit revenir à des normes selon ces notes l'environnement concurrentiel m'oblige à remettre à plat nos conditions de fabrication et nos coûts de production a poursuivi m. de chaisemartin au total le patron du figaro a donné six éléments qui l'ont poussé à cette décision l'état des nmpp nouvelles la prochaine augmentation des tarifs de la poste la presse gratuite l'ouverture de la publicité à la pres se le réseau des points de vente qui est en train de disparaître et la situation même du figaro dans ce contexte déprimé et pour riposter à la concurrence des gratuits la socpresse envisage de lancer avec le parisien amaury et hachette une fédération de quotidiens gratuits qui serait pilotée par le parisien au niveau national et qui aurait notamment comme têtes de pont le projet du progrès à lyon marseille+ qui a été lancé par la provence en février 2002 le monde du 22 novembre etc le syndicat sgj-fo s'est étonné que m. de chaisemartin n'en ait pas dit un mot au comité d'entreprise quel serait le plus publicitaire et rédactionnel de cette opération se demande une élue de sgj-fo le syndicat qui demande à la direction une relance du journal a en outre appelé à ce que l'ensemble de la rédaction soit associé à la préparation de la nouvelle maquette et à un vrai projet rédactionnel cette nouvelle maquette est semble-t-il préparée dans le plus grand secret par un petit nombre de personnes par ailleurs le sgj-fo a fait part dans un courrier électronique adressé à la rédaction de ses inquiétudes sur le fait que la direction ne peut pas toujours résister aux sollicitations de la direction de publiprint la régie publicitaire du figaro en tout cas m. de chaisemartin est déterminé dans sa décision concernant le spp il est prêt à aller jusqu'au bout un conflit avec le livre est probable je ne le crains pas je vous demande d'être prêt à toute éventualité aurait-il affirmé selon les notes de sgj-fo une réunion avec le syndicat du livre et la direction du figaro est prévue lundi 1er décembre d'ores et déjà m. de chaisemartin prévient que les éditeurs me suivent ou pas on ne m'empêchera pas d'avancer a-t-il lancé devant les élus du ce ou nous aboutirons à des accords spp ou nous ferons des accords spécifiques figaro le syndicat sgj-fo a annoncé au cours de l'assemblée générale qui a suivi le ce avoir demandé une réunion d'urgence au spp un prêt à rembourser quant à savoir si cette décision a été prise en raison d'une pression de ses actionnaires notamment le groupe dassault qui détient 30 du capital de la socpresse maison mère du figaro la sortie du spp n'est ni un coup ni une manoeuvre elle n'a rien à voir avec les pouvoirs publics ni avec les actionnaires ni avec la prétendue échéance financière de février rappelons que dassault a acquis fin janvier 2002 pour plus de 450 millions d'euros 30 de la socpresse le reste du capital étant entre les mains des treize héritiers de robert hersant or la socpresse doit rembourser un prêt de 230 millions d'euros contracté auprès de dassault début 2003 pour racheter le groupe express-expansion l'échéance de cet accord de prêt tombe en février 2004 comme l'a révélé l'hebdomadaire stratégies du 20 novembre la socpresse pourrait avoir des difficultés à rembourser cette dette en numéraire elle pourrait donc être convertie en actions portant la part de dassault dans le capital de la socpresse de 30 à moins de 50 le groupe de serge dassault a toujours indiqué qu'il était prêt à augmenter sa participation mais la rédaction du figaro de même que celles de l'express et de l'expansion ne verraient pas d'un bon oeil cette montée dans le capital nos relations avec m. de chaisemartin sont excellentes c'est l'homme de la situation a confié rudi roussillon conseiller de serge dassault les hommes de dassault rencontrent m. de chaisemartin au moins une fois par semaine   \n",
       "\n",
       "      category  \n",
       "29033      SOC  \n",
       "26286      INT  \n",
       "11987      ENT  "
      ]
     },
     "execution_count": 6,
     "metadata": {},
     "output_type": "execute_result"
    }
   ],
   "source": [
    "# Print examples of the articles\n",
    "pd.set_option('display.max_colwidth', None)\n",
    "df.sample(3)\n",
    "\n"
   ]
  },
  {
   "cell_type": "code",
   "execution_count": 17,
   "metadata": {},
   "outputs": [
    {
     "ename": "TypeError",
     "evalue": "Image data of dtype object cannot be converted to float",
     "output_type": "error",
     "traceback": [
      "\u001b[0;31m---------------------------------------------------------------------------\u001b[0m",
      "\u001b[0;31mTypeError\u001b[0m                                 Traceback (most recent call last)",
      "Cell \u001b[0;32mIn[17], line 22\u001b[0m\n\u001b[1;32m     20\u001b[0m wc \u001b[38;5;241m=\u001b[39m WordCloud(stopwords \u001b[38;5;241m=\u001b[39m STOPWORDS)\u001b[38;5;241m.\u001b[39mgenerate_from_text\n\u001b[1;32m     21\u001b[0m (total_text)\n\u001b[0;32m---> 22\u001b[0m \u001b[43maxs\u001b[49m\u001b[43m[\u001b[49m\u001b[43mi\u001b[49m\u001b[43m]\u001b[49m\u001b[38;5;241;43m.\u001b[39;49m\u001b[43mimshow\u001b[49m\u001b[43m(\u001b[49m\u001b[43mwc\u001b[49m\u001b[43m)\u001b[49m\n\u001b[1;32m     23\u001b[0m axs[i]\u001b[38;5;241m.\u001b[39maxis(\u001b[38;5;124m'\u001b[39m\u001b[38;5;124moff\u001b[39m\u001b[38;5;124m'\u001b[39m\n\u001b[1;32m     24\u001b[0m           )\n\u001b[1;32m     25\u001b[0m axs[i]\u001b[38;5;241m.\u001b[39mset_title(cat)\n",
      "File \u001b[0;32m/opt/mamba/lib/python3.11/site-packages/matplotlib/__init__.py:1465\u001b[0m, in \u001b[0;36m_preprocess_data.<locals>.inner\u001b[0;34m(ax, data, *args, **kwargs)\u001b[0m\n\u001b[1;32m   1462\u001b[0m \u001b[38;5;129m@functools\u001b[39m\u001b[38;5;241m.\u001b[39mwraps(func)\n\u001b[1;32m   1463\u001b[0m \u001b[38;5;28;01mdef\u001b[39;00m \u001b[38;5;21minner\u001b[39m(ax, \u001b[38;5;241m*\u001b[39margs, data\u001b[38;5;241m=\u001b[39m\u001b[38;5;28;01mNone\u001b[39;00m, \u001b[38;5;241m*\u001b[39m\u001b[38;5;241m*\u001b[39mkwargs):\n\u001b[1;32m   1464\u001b[0m     \u001b[38;5;28;01mif\u001b[39;00m data \u001b[38;5;129;01mis\u001b[39;00m \u001b[38;5;28;01mNone\u001b[39;00m:\n\u001b[0;32m-> 1465\u001b[0m         \u001b[38;5;28;01mreturn\u001b[39;00m \u001b[43mfunc\u001b[49m\u001b[43m(\u001b[49m\u001b[43max\u001b[49m\u001b[43m,\u001b[49m\u001b[43m \u001b[49m\u001b[38;5;241;43m*\u001b[39;49m\u001b[38;5;28;43mmap\u001b[39;49m\u001b[43m(\u001b[49m\u001b[43msanitize_sequence\u001b[49m\u001b[43m,\u001b[49m\u001b[43m \u001b[49m\u001b[43margs\u001b[49m\u001b[43m)\u001b[49m\u001b[43m,\u001b[49m\u001b[43m \u001b[49m\u001b[38;5;241;43m*\u001b[39;49m\u001b[38;5;241;43m*\u001b[39;49m\u001b[43mkwargs\u001b[49m\u001b[43m)\u001b[49m\n\u001b[1;32m   1467\u001b[0m     bound \u001b[38;5;241m=\u001b[39m new_sig\u001b[38;5;241m.\u001b[39mbind(ax, \u001b[38;5;241m*\u001b[39margs, \u001b[38;5;241m*\u001b[39m\u001b[38;5;241m*\u001b[39mkwargs)\n\u001b[1;32m   1468\u001b[0m     auto_label \u001b[38;5;241m=\u001b[39m (bound\u001b[38;5;241m.\u001b[39marguments\u001b[38;5;241m.\u001b[39mget(label_namer)\n\u001b[1;32m   1469\u001b[0m                   \u001b[38;5;129;01mor\u001b[39;00m bound\u001b[38;5;241m.\u001b[39mkwargs\u001b[38;5;241m.\u001b[39mget(label_namer))\n",
      "File \u001b[0;32m/opt/mamba/lib/python3.11/site-packages/matplotlib/axes/_axes.py:5756\u001b[0m, in \u001b[0;36mAxes.imshow\u001b[0;34m(self, X, cmap, norm, aspect, interpolation, alpha, vmin, vmax, origin, extent, interpolation_stage, filternorm, filterrad, resample, url, **kwargs)\u001b[0m\n\u001b[1;32m   5753\u001b[0m \u001b[38;5;28;01mif\u001b[39;00m aspect \u001b[38;5;129;01mis\u001b[39;00m \u001b[38;5;129;01mnot\u001b[39;00m \u001b[38;5;28;01mNone\u001b[39;00m:\n\u001b[1;32m   5754\u001b[0m     \u001b[38;5;28mself\u001b[39m\u001b[38;5;241m.\u001b[39mset_aspect(aspect)\n\u001b[0;32m-> 5756\u001b[0m \u001b[43mim\u001b[49m\u001b[38;5;241;43m.\u001b[39;49m\u001b[43mset_data\u001b[49m\u001b[43m(\u001b[49m\u001b[43mX\u001b[49m\u001b[43m)\u001b[49m\n\u001b[1;32m   5757\u001b[0m im\u001b[38;5;241m.\u001b[39mset_alpha(alpha)\n\u001b[1;32m   5758\u001b[0m \u001b[38;5;28;01mif\u001b[39;00m im\u001b[38;5;241m.\u001b[39mget_clip_path() \u001b[38;5;129;01mis\u001b[39;00m \u001b[38;5;28;01mNone\u001b[39;00m:\n\u001b[1;32m   5759\u001b[0m     \u001b[38;5;66;03m# image does not already have clipping set, clip to axes patch\u001b[39;00m\n",
      "File \u001b[0;32m/opt/mamba/lib/python3.11/site-packages/matplotlib/image.py:723\u001b[0m, in \u001b[0;36m_ImageBase.set_data\u001b[0;34m(self, A)\u001b[0m\n\u001b[1;32m    721\u001b[0m \u001b[38;5;28;01mif\u001b[39;00m \u001b[38;5;28misinstance\u001b[39m(A, PIL\u001b[38;5;241m.\u001b[39mImage\u001b[38;5;241m.\u001b[39mImage):\n\u001b[1;32m    722\u001b[0m     A \u001b[38;5;241m=\u001b[39m pil_to_array(A)  \u001b[38;5;66;03m# Needed e.g. to apply png palette.\u001b[39;00m\n\u001b[0;32m--> 723\u001b[0m \u001b[38;5;28mself\u001b[39m\u001b[38;5;241m.\u001b[39m_A \u001b[38;5;241m=\u001b[39m \u001b[38;5;28;43mself\u001b[39;49m\u001b[38;5;241;43m.\u001b[39;49m\u001b[43m_normalize_image_array\u001b[49m\u001b[43m(\u001b[49m\u001b[43mA\u001b[49m\u001b[43m)\u001b[49m\n\u001b[1;32m    724\u001b[0m \u001b[38;5;28mself\u001b[39m\u001b[38;5;241m.\u001b[39m_imcache \u001b[38;5;241m=\u001b[39m \u001b[38;5;28;01mNone\u001b[39;00m\n\u001b[1;32m    725\u001b[0m \u001b[38;5;28mself\u001b[39m\u001b[38;5;241m.\u001b[39mstale \u001b[38;5;241m=\u001b[39m \u001b[38;5;28;01mTrue\u001b[39;00m\n",
      "File \u001b[0;32m/opt/mamba/lib/python3.11/site-packages/matplotlib/image.py:688\u001b[0m, in \u001b[0;36m_ImageBase._normalize_image_array\u001b[0;34m(A)\u001b[0m\n\u001b[1;32m    686\u001b[0m A \u001b[38;5;241m=\u001b[39m cbook\u001b[38;5;241m.\u001b[39msafe_masked_invalid(A, copy\u001b[38;5;241m=\u001b[39m\u001b[38;5;28;01mTrue\u001b[39;00m)\n\u001b[1;32m    687\u001b[0m \u001b[38;5;28;01mif\u001b[39;00m A\u001b[38;5;241m.\u001b[39mdtype \u001b[38;5;241m!=\u001b[39m np\u001b[38;5;241m.\u001b[39muint8 \u001b[38;5;129;01mand\u001b[39;00m \u001b[38;5;129;01mnot\u001b[39;00m np\u001b[38;5;241m.\u001b[39mcan_cast(A\u001b[38;5;241m.\u001b[39mdtype, \u001b[38;5;28mfloat\u001b[39m, \u001b[38;5;124m\"\u001b[39m\u001b[38;5;124msame_kind\u001b[39m\u001b[38;5;124m\"\u001b[39m):\n\u001b[0;32m--> 688\u001b[0m     \u001b[38;5;28;01mraise\u001b[39;00m \u001b[38;5;167;01mTypeError\u001b[39;00m(\u001b[38;5;124mf\u001b[39m\u001b[38;5;124m\"\u001b[39m\u001b[38;5;124mImage data of dtype \u001b[39m\u001b[38;5;132;01m{\u001b[39;00mA\u001b[38;5;241m.\u001b[39mdtype\u001b[38;5;132;01m}\u001b[39;00m\u001b[38;5;124m cannot be \u001b[39m\u001b[38;5;124m\"\u001b[39m\n\u001b[1;32m    689\u001b[0m                     \u001b[38;5;124mf\u001b[39m\u001b[38;5;124m\"\u001b[39m\u001b[38;5;124mconverted to float\u001b[39m\u001b[38;5;124m\"\u001b[39m)\n\u001b[1;32m    690\u001b[0m \u001b[38;5;28;01mif\u001b[39;00m A\u001b[38;5;241m.\u001b[39mndim \u001b[38;5;241m==\u001b[39m \u001b[38;5;241m3\u001b[39m \u001b[38;5;129;01mand\u001b[39;00m A\u001b[38;5;241m.\u001b[39mshape[\u001b[38;5;241m-\u001b[39m\u001b[38;5;241m1\u001b[39m] \u001b[38;5;241m==\u001b[39m \u001b[38;5;241m1\u001b[39m:\n\u001b[1;32m    691\u001b[0m     A \u001b[38;5;241m=\u001b[39m A\u001b[38;5;241m.\u001b[39msqueeze(\u001b[38;5;241m-\u001b[39m\u001b[38;5;241m1\u001b[39m)  \u001b[38;5;66;03m# If just (M, N, 1), assume scalar and apply colormap.\u001b[39;00m\n",
      "\u001b[0;31mTypeError\u001b[0m: Image data of dtype object cannot be converted to float"
     ]
    },
    {
     "data": {
      "image/png": "[encoded data removed]",
      "text/plain": [
       "<Figure size 640x480 with 5 Axes>"
      ]
     },
     "metadata": {},
     "output_type": "display_data"
    }
   ],
   "source": [
    "from wordcloud import WordCloud\n",
    "# Display one wordcloud for each of the most frequent classes\n",
    "\n",
    "from wordcloud import WordCloud\n",
    "STOPWORDS = [x.strip() for x in open('data/stop_word_fr.txt').readlines()]\n",
    "import matplotlib.pyplot as plt\n",
    "\n",
    "\n",
    "\n",
    "\n",
    "\n",
    "\n",
    "fig, axs = plt.subplots(5)\n",
    "\n",
    "df['text'].str.cat(sep=' ')\n",
    "\n",
    "# plot a word cloud for each category\n",
    "for i,cat in enumerate(['ENT', 'INT',  'ART', 'SOC', 'FRA']):\n",
    "    total_text = df[df[\"category\"]==cat].text.str.cat(sep=' ')\n",
    "\n",
    "    wc = WordCloud(stopwords = STOPWORDS).generate_from_text\n",
    "    (total_text)\n",
    "    axs[i].imshow(wc)\n",
    "    axs[i].axis('off'\n",
    "              )\n",
    "    axs[i].set_title(cat)\n",
    "\n",
    "fig.show()"
   ]
  },
  {
   "cell_type": "markdown",
   "metadata": {},
   "source": [
    "## Bag-of-word representation\n",
    "\n",
    "In order to apply machine learning algorithms to text, documents must be transformed into vectors. The most simple and standard way to transform a document into a vector is the *bag-of-word* encoding.\n",
    "\n",
    "The idea is very simple : \n",
    "\n",
    "1. define the set of all the possible words that can appear in a document; denote its size by `max_features`.\n",
    "2. for each document,  encode it with a vector of size `max_features`, with the value of the ith component of the vector equal to the number of time the ith word appears in the document.\n",
    "\n",
    "See [the wikipedia article on Bag-of-word](https://en.wikipedia.org/wiki/Bag-of-words_model) for an example.\n",
    "\n",
    "Scikit-learn proposes different methods to encode text into vectors : [CountVectorizer](http://scikit-learn.org/stable/modules/generated/sklearn.feature_extraction.text.CountVectorizer.html) and [TfidfTransformer](http://scikit-learn.org/stable/modules/generated/sklearn.feature_extraction.text.TfidfTransformer.html).\n",
    "\n",
    "The encoder must first be trained on the train set and applied to the different sets, for example with the 200  words : \n",
    "\n",
    "\tfrom sklearn.feature_extraction.text import CountVectorizer\n",
    "\tvectorizer = CountVectorizer(max_features=200)\n",
    "    vectorizer.fit(X_train)\n",
    "    X_train_counts = vectorizer.transform(X_train)\n",
    "    X_test_counts = vectorizer.transform(X_test)\n",
    "        \n",
    "**Question**:\n",
    "\n",
    "> * Split the dataset LeMonde2003 into train set (80%), dev set (10%)  and test set (10%) using scikit-learn [train_test_split](http://scikit-learn.org/stable/modules/generated/sklearn.model_selection.train_test_split.html)\n",
    "> * For each set, transform the text of the articles into vectors using the `CountVectorizer`, considering the 1000 most frequent words. \n",
    "> * Train a naive bayes classifier on the data. \n",
    "> * Evaluate the classification accuracy on the train, dev and test sets using the [score](https://scikit-learn.org/stable/modules/generated/sklearn.naive_bayes.MultinomialNB.html#sklearn.naive_bayes.MultinomialNB.score) method. \n",
    "\n",
    "> ***Important*** : the test set must not be used during the training phase, and learning the vector representation of the words is part of the training. The dev set should be an evaluation of the test set.\n",
    "\n"
   ]
  },
  {
   "cell_type": "code",
   "execution_count": null,
   "metadata": {},
   "outputs": [],
   "source": [
    "from sklearn.model_selection import train_test_split\n",
    "# Split the dataset, create X (features) and y (target), print the size\n",
    "# YOUR CODE HERE\n"
   ]
  },
  {
   "cell_type": "code",
   "execution_count": null,
   "metadata": {},
   "outputs": [],
   "source": [
    "from sklearn.feature_extraction.text import CountVectorizer\n",
    "# Create document vectors\n",
    "# YOUR CODE HERE\n",
    "# create the vectorizer object\n",
    "\n",
    "# fit on train data\n",
    "\n",
    "# apply it on train and dev data\n"
   ]
  },
  {
   "cell_type": "code",
   "execution_count": null,
   "metadata": {},
   "outputs": [],
   "source": [
    "from sklearn.naive_bayes import MultinomialNB\n",
    "# train a Naive Bayes classifier\n",
    "# YOUR CODE HERE\n",
    "# create the MultinomialNB\n",
    "\n",
    "# Train \n",
    "\n",
    "# Evaluate \n"
   ]
  },
  {
   "cell_type": "markdown",
   "metadata": {},
   "source": [
    "## TF-IDF representation\n",
    "\n",
    "The `CountVectorizer` encodes the text using the raw frequencies of the words. However, words that are very frequent and appear in all the documents will have a strong weight whereas they are not discriminative. The *Term-Frequency Inverse-Document-Frequency* weighting scheme take into accound the number of documents in which a given word occurs. A word that appear in many document will have less weight. See [the wikipedia page](https://en.wikipedia.org/wiki/Tf%E2%80%93idf) for more details.\n",
    "\n",
    "With scikit-learn, the `TfidfTransformer` is applied after the `CountVectorizer` :\n",
    "\n",
    "\tfrom sklearn.feature_extraction.text import TfidfTransformer\n",
    "\ttf_transformer = TfidfTransformer().fit(X_train_counts)\n",
    " \tX_train_tf = tf_transformer.transform(X_train_counts)\n",
    "\tX_test_tf = tf_transformer.transform(X_test_counts)\n",
    "\t\n",
    "**Question**:\n",
    "\n",
    "> * Use the TF-IDF representation to train a Multinomial Naive Bayes classifier. Report your best test error rate and the error rates for all the configurations tested."
   ]
  },
  {
   "cell_type": "code",
   "execution_count": null,
   "metadata": {},
   "outputs": [],
   "source": [
    "from sklearn.feature_extraction.text import TfidfTransformer\n",
    "# YOUR CODE HERE\n"
   ]
  },
  {
   "cell_type": "markdown",
   "metadata": {},
   "source": [
    "## Error analysis\n",
    "\n",
    "The classification error rate give an evaluation of the performance for all the classes. But since the classes are not equally distributed, they may not be equally well modelized. In order to get a better idea of the performance of the classifier, detailed metrics must be used : \n",
    "\n",
    "* [metrics.classification_report](http://scikit-learn.org/stable/modules/generated/sklearn.metrics.classification_report.html) provides a detailed analysis per class : the precision (amongst all the example classified as class X, how many are really from the classX) and the recall (amongst all the example that are from the class X, how many are classified as class X) and the F-Score which is as a weighted harmonic mean of the precision and recall.\n",
    "* [metrics.confusion_matrix](http://scikit-learn.org/stable/modules/generated/sklearn.metrics.confusion_matrix.html) which give the confusions between the classes. It can be displayed in color with [plot_confusion_matrix](https://scikit-learn.org/stable/modules/generated/sklearn.metrics.plot_confusion_matrix.html#sklearn.metrics.plot_confusion_matrix).\n",
    "\n",
    "**Question**:\n",
    "\n",
    "> * Report the `classification_report` for your  classifier. Which classes have the best scores ? Why ?\n",
    "> * Report the `confusion_matrix` for your  classifier. Which classes are the most confused ? Why ?\n"
   ]
  },
  {
   "cell_type": "code",
   "execution_count": null,
   "metadata": {},
   "outputs": [],
   "source": [
    "from sklearn.metrics import classification_report, ConfusionMatrixDisplay\n",
    "\n",
    "# YOUR CODE HERE\n",
    "\n"
   ]
  },
  {
   "cell_type": "markdown",
   "metadata": {},
   "source": [
    "## Data re-configuration\n",
    "After the error analysis, we came to the conclusion that one of the class can not be distinguised from the others. There is no use trying to solve an impossible problem.\n",
    "\n",
    "**Questions**:\n",
    "\n",
    "> * Remove the class `UNE` from the original dataset and merge the semantically close classes 'FRANCE' and 'SOCIETE'\n",
    "> * Plot the class statitics with seaborn\n",
    "> * Create new splits\n",
    "> * Retrain a NaiveBayes classifier using [TfidfVectorizer](https://scikit-learn.org/stable/modules/generated/sklearn.feature_extraction.text.TfidfVectorizer.html) with the 1000 most frequent words."
   ]
  },
  {
   "cell_type": "code",
   "execution_count": null,
   "metadata": {},
   "outputs": [],
   "source": [
    "from sklearn.feature_extraction.text import TfidfVectorizer\n",
    "# YOUR CODE HERE\n",
    "\n",
    "# Filter out the UNE class\n",
    "\n",
    "# Plot the statistics of classes\n",
    "\n",
    "# Make the splits and print the sizes for checking\n",
    "\n",
    "# Apply TfidfVectorizer\n",
    "\n",
    "# Train MultinomialNB\n",
    "\n",
    "# Print accuracy\n",
    "\n",
    "# Print confusion matric\n"
   ]
  },
  {
   "cell_type": "markdown",
   "metadata": {},
   "source": [
    "## What about the LLMs?\n",
    "\n",
    "**You must write the answer to this question in a notebook hosted in your github account and give access to your supervisor.**\n",
    "\n",
    "LLMs are reputed to have revolutionised automatic language processing. Since the introduction of BERT-type models, all language processing applications have been based on LLMs, of varying degrees of sophistication and size. These models are trained on multiple tasks and are therefore capable of performing new tasks without learning, simply from a prompt. This is known as \"zero-shot learning\" because there is no learning phase as such. We are going to test these models on our classification task.\n",
    "\n",
    "Huggingface is a Franco-American company that develops tools for building applications based on Deep Learning. In particular, it hosts the huggingface.co portal, which contains numerous Deep Learning models. These models can be used very easily thanks to the [Transformer] library (https://huggingface.co/docs/transformers/quicktour) developed by HuggingFace.\n",
    "\n",
    "Using a transform model in zero-shot learning with HuggingFace is very simple: [see documentation](https://huggingface.co/tasks/zero-shot-classification)\n",
    "\n",
    "However, you need to choose a suitable model from the list of models compatible with Zero-Shot classification. HuggingFace offers [numerous models](https://huggingface.co/models?pipeline_tag=zero-shot-classification). \n",
    "\n",
    "The classes proposed to the model must also provide sufficient semantic information for the model to understand them.\n",
    "\n",
    "**Question**:\n",
    "\n",
    "* Write a code to classify an example of text from an article in Le Monde using a model transformed using zero-sot learning with the HuggingFace library.\n",
    "* choose a model and explain your choice\n",
    "* choose a formulation for the classes to be predicted\n",
    "* show that the model predicts a class for the text of the article (correct or incorrect, analyse the results)\n",
    "* evaluate the performance of your model on 100 articles (a test set).\n",
    "* note model sizes, processing times and classification results\n",
    "\n",
    "\n",
    "Notes :\n",
    "* make sure that you use the correct Tokenizer when using a model \n",
    "* start testing with a small number of articles and the first 100's of characters for faster experiments."
   ]
  },
  {
   "cell_type": "code",
   "execution_count": null,
   "metadata": {},
   "outputs": [],
   "source": []
  }
 ],
 "metadata": {
  "kernelspec": {
   "display_name": "Python 3 (ipykernel)",
   "language": "python",
   "name": "python3"
  },
  "language_info": {
   "codemirror_mode": {
    "name": "ipython",
    "version": 3
   },
   "file_extension": ".py",
   "mimetype": "text/x-python",
   "name": "python",
   "nbconvert_exporter": "python",
   "pygments_lexer": "ipython3",
   "version": "3.11.6"
  }
 },
 "nbformat": 4,
 "nbformat_minor": 4
}
